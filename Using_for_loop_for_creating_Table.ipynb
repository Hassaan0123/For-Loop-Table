{
  "nbformat": 4,
  "nbformat_minor": 0,
  "metadata": {
    "colab": {
      "name": "Using for loop for creating Table.ipynb",
      "provenance": []
    },
    "kernelspec": {
      "name": "python3",
      "display_name": "Python 3"
    },
    "language_info": {
      "name": "python"
    }
  },
  "cells": [
    {
      "cell_type": "code",
      "source": [
        "for i in range(1,11):\n",
        "  print(\"2\",\"x\",i,\"=\",num1*i)"
      ],
      "metadata": {
        "colab": {
          "base_uri": "https://localhost:8080/"
        },
        "id": "tpqPkySmhDR5",
        "outputId": "582fc452-8e8b-45da-f3a0-2c9d8f4d205c"
      },
      "execution_count": 3,
      "outputs": [
        {
          "output_type": "stream",
          "name": "stdout",
          "text": [
            "2 x 1 = 10\n",
            "2 x 2 = 20\n",
            "2 x 3 = 30\n",
            "2 x 4 = 40\n",
            "2 x 5 = 50\n",
            "2 x 6 = 60\n",
            "2 x 7 = 70\n",
            "2 x 8 = 80\n",
            "2 x 9 = 90\n",
            "2 x 10 = 100\n"
          ]
        }
      ]
    },
    {
      "cell_type": "code",
      "execution_count": 4,
      "metadata": {
        "colab": {
          "base_uri": "https://localhost:8080/"
        },
        "id": "J5MoaIaoMoKT",
        "outputId": "54b5dd41-9633-475a-9f83-76c99a9a197f"
      },
      "outputs": [
        {
          "output_type": "stream",
          "name": "stdout",
          "text": [
            "Enter number1:10\n",
            "10 x 1 = 10\n",
            "10 x 2 = 20\n",
            "10 x 3 = 30\n",
            "10 x 4 = 40\n",
            "10 x 5 = 50\n",
            "10 x 6 = 60\n",
            "10 x 7 = 70\n",
            "10 x 8 = 80\n",
            "10 x 9 = 90\n",
            "10 x 10 = 100\n"
          ]
        }
      ],
      "source": [
        "num1 = int(input(\"Enter number1:\"))\n",
        "for i in range(1,11):\n",
        "  print(num1,\"x\",i,\"=\",num1*i)"
      ]
    },
    {
      "cell_type": "code",
      "source": [
        ""
      ],
      "metadata": {
        "id": "IsEGbXcjhVSI"
      },
      "execution_count": null,
      "outputs": []
    }
  ]
}